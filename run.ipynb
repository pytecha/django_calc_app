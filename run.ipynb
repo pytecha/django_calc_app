{
 "cells": [
  {
   "cell_type": "code",
   "execution_count": null,
   "id": "d54e9d00",
   "metadata": {},
   "outputs": [
    {
     "name": "stderr",
     "output_type": "stream",
     "text": [
      "Watching for file changes with StatReloader\n",
      "[15/May/2022 19:17:13] \"GET / HTTP/1.1\" 200 35267\n",
      "[15/May/2022 19:17:13] \"GET /static/calc/css/index.css HTTP/1.1\" 200 7663\n",
      "[15/May/2022 19:17:13] \"GET /static/calc/css/bootstrap.min.css HTTP/1.1\" 200 163873\n",
      "[15/May/2022 19:17:13] \"GET /static/calc/js/jquery.js HTTP/1.1\" 200 288580\n",
      "[15/May/2022 19:17:13] \"GET /static/calc/js/index.js HTTP/1.1\" 200 78864\n",
      "[15/May/2022 19:17:13] \"GET /static/calc/fonts/AquireBold.otf HTTP/1.1\" 200 24072\n",
      "[15/May/2022 19:17:21] \"GET / HTTP/1.1\" 200 35267\n",
      "[15/May/2022 19:17:30] \"GET /static/calc/fonts/digital-7-mono.ttf HTTP/1.1\" 200 34404\n"
     ]
    }
   ],
   "source": [
    "import os\n",
    "os.system(\"python manage.py runserver\")"
   ]
  },
  {
   "cell_type": "code",
   "execution_count": null,
   "id": "eac4a029",
   "metadata": {},
   "outputs": [],
   "source": []
  }
 ],
 "metadata": {
  "kernelspec": {
   "display_name": "Python 3 (ipykernel)",
   "language": "python",
   "name": "python3"
  },
  "language_info": {
   "codemirror_mode": {
    "name": "ipython",
    "version": 3
   },
   "file_extension": ".py",
   "mimetype": "text/x-python",
   "name": "python",
   "nbconvert_exporter": "python",
   "pygments_lexer": "ipython3",
   "version": "3.9.7"
  }
 },
 "nbformat": 4,
 "nbformat_minor": 5
}
